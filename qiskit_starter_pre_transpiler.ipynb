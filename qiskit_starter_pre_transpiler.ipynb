{
 "cells": [
  {
   "cell_type": "markdown",
   "id": "cf64f8df",
   "metadata": {},
   "source": [
    "# Install and Import Qiskit\n",
    "This section will help you install Qiskit (if needed) and import its main modules."
   ]
  },
  {
   "cell_type": "code",
   "execution_count": 99,
   "id": "d113e68b",
   "metadata": {},
   "outputs": [],
   "source": [
    "# If running in an environment where Qiskit is not installed, uncomment the next line:\n",
    "\n",
    "from qiskit import QuantumCircuit\n",
    "from qiskit_ibm_runtime import QiskitRuntimeService\n",
    "from qiskit_aer import AerSimulator\n",
    "#from qiskit.visualization import plot_histogram\n",
    "\n",
    "from qiskit import QuantumCircuit, transpile\n",
    "from qiskit.transpiler import PassManager\n",
    "from qiskit.providers.fake_provider import GenericBackendV2\n",
    "import time\n",
    "from tabulate import tabulate\n",
    "from qiskit.circuit.random import random_circuit\n",
    "from qiskit.transpiler.passes import (\n",
    "    RemoveResetInZeroState,\n",
    "    RemoveDiagonalGatesBeforeMeasure,\n",
    "    Optimize1qGates,\n",
    "    CommutationAnalysis,\n",
    "    CommutativeCancellation,\n",
    "    Collect2qBlocks,\n",
    "    ConsolidateBlocks,\n",
    "    UnitarySynthesis,\n",
    ")"
   ]
  },
  {
   "cell_type": "markdown",
   "id": "dee55699",
   "metadata": {},
   "source": [
    "# Check Qiskit Version\n",
    "Print the installed Qiskit version to confirm the environment setup."
   ]
  },
  {
   "cell_type": "code",
   "execution_count": 100,
   "id": "c9207f1c",
   "metadata": {},
   "outputs": [
    {
     "name": "stdout",
     "output_type": "stream",
     "text": [
      "Qiskit version: 2.1.0\n"
     ]
    }
   ],
   "source": [
    "import qiskit\n",
    "print(\"Qiskit version:\", qiskit.__version__)"
   ]
  },
  {
   "cell_type": "markdown",
   "id": "25886aef",
   "metadata": {},
   "source": [
    "# Create the service provider\n",
    "Create a service provider instance to manage the quantum backend and other configurations."
   ]
  },
  {
   "cell_type": "code",
   "execution_count": 101,
   "id": "f538448f",
   "metadata": {},
   "outputs": [
    {
     "name": "stderr",
     "output_type": "stream",
     "text": [
      "/tmp/ipykernel_106354/3458285426.py:2: DeprecationWarning: The \"ibm_quantum\" channel option is deprecated and will be sunset on 1 July. After this date, \"ibm_cloud\", \"ibm_quantum_platform\", and \"local\" will be the only valid channels. Open Plan users should migrate now.  All other users should review the migration guide (https://quantum.cloud.ibm.com/docs/migration-guides/classic-iqp-to-cloud-iqp)to learn when to migrate.\n",
      "  service = QiskitRuntimeService(\n"
     ]
    },
    {
     "name": "stdout",
     "output_type": "stream",
     "text": [
      "Available backends:\n",
      "- ibm_brisbane (<bound method IBMBackend.status of <IBMBackend('ibm_brisbane')>>)\n",
      "- ibm_sherbrooke (<bound method IBMBackend.status of <IBMBackend('ibm_sherbrooke')>>)\n"
     ]
    }
   ],
   "source": [
    "# Initialize the Qiskit Runtime Service\n",
    "service = QiskitRuntimeService(\n",
    "    channel=\"ibm_quantum\",\n",
    "    instance=\"ibm-q/open/main\",  # =\"<IBM Cloud CRN or instance name>\", # Optionally specify the instance to use.\n",
    "    token=\"6eeda133df82dbaa57e0b308e80950f4452e32b1b9d0e942d90986e0547c24af26a2f5b5da5ed30b46d4263a938e5d3ac46fabe1ec59bc527e0ba7a0ea2184d6\",\n",
    ")\n",
    "# List all available backends\n",
    "backends = service.backends()\n",
    "print(\"Available backends:\")\n",
    "for backend in backends:\n",
    "    print(f\"- {backend.name} ({backend.status})\")"
   ]
  },
  {
   "cell_type": "markdown",
   "id": "98c8edec",
   "metadata": {},
   "source": [
    "```markdown\n",
    "# Preprocessing Quantum Circuits with Transpiler Passes\n",
    "\n",
    "This cell defines a function `preprocess_circuit` that applies a sequence of Qiskit transpiler passes to optimize and simplify a given quantum circuit. The function uses passes such as removing resets in the zero state, eliminating diagonal gates before measurement, optimizing single-qubit gates, analyzing and canceling commutative gates, collecting two-qubit blocks, and consolidating blocks. Optionally, it can also synthesize unitary gates into a specified set of basis gates for further optimization.\n",
    "```"
   ]
  },
  {
   "cell_type": "code",
   "execution_count": 102,
   "id": "7458196e",
   "metadata": {},
   "outputs": [],
   "source": [
    "def preprocess_circuit(qc: QuantumCircuit, basis_gates=None, basic_passes = True) -> QuantumCircuit:\n",
    "    pm = PassManager()\n",
    "    pm.append(RemoveResetInZeroState())\n",
    "    pm.append(RemoveDiagonalGatesBeforeMeasure())\n",
    "    pm.append(Optimize1qGates())\n",
    "    pm.append(CommutationAnalysis())\n",
    "    pm.append(CommutativeCancellation())\n",
    "    pm.append(Collect2qBlocks())\n",
    "    pm.append(ConsolidateBlocks())\n",
    "    # The following passes are commented out as they may not be necessary for all circuits.\n",
    "    # Uncomment them if you want to include them in your preprocessing pipeline.\n",
    "    # RemoveBarriers removes barriers from the circuit, which can be useful for optimization.\n",
    "    # CXCancellation removes controlled-X gates that are not needed, which can simplify the circuit.\n",
    "    # RemoveUnusedRegisters removes any unused quantum or classical registers from the circuit.\n",
    "    if not basic_passes:\n",
    "        from qiskit.transpiler.passes import RemoveBarriers, Optimize1qGatesDecomposition, Collect1qRuns, CollectMultiQBlocks, CollectAndCollapse, CollectLinearFunctions, CollectCliffords, InverseCancellation, CommutativeInverseCancellation, Optimize1qGatesSimpleCommutation, RemoveFinalReset, HoareOptimizer, TemplateOptimization, ResetAfterMeasureSimplification, OptimizeCliffords, ElidePermutations, OptimizeAnnotated, Split2QUnitaries, RemoveIdentityEquivalent, ContractIdleWiresInControlFlow, OptimizeCliffordT\n",
    "        pm.append(RemoveBarriers())\n",
    "        pm.append(Optimize1qGatesDecomposition())\n",
    "        pm.append(Collect1qRuns())\n",
    "        pm.append(CollectMultiQBlocks())\n",
    "        #pm.append(CollectAndCollapse())\n",
    "        pm.append(CollectLinearFunctions())\n",
    "        #pm.append(CollectCliffords())\n",
    "        #pm.append(InverseCancellation())\n",
    "        pm.append(CommutativeInverseCancellation())\n",
    "        pm.append(Optimize1qGatesSimpleCommutation())\n",
    "        pm.append(RemoveFinalReset())\n",
    "        pm.append(HoareOptimizer())\n",
    "        pm.append(TemplateOptimization())\n",
    "        pm.append(ResetAfterMeasureSimplification())\n",
    "        pm.append(OptimizeCliffords())\n",
    "        pm.append(ElidePermutations())\n",
    "        pm.append(OptimizeAnnotated())\n",
    "        pm.append(Split2QUnitaries())\n",
    "        pm.append(RemoveIdentityEquivalent())\n",
    "        pm.append(ContractIdleWiresInControlFlow())\n",
    "        pm.append(OptimizeCliffordT())\n",
    "\n",
    "    # Optionally add UnitarySynthesis if basis_gates are provided\n",
    "    # This pass synthesizes unitary gates into the specified basis gates.\n",
    "    # It can be useful for optimizing the circuit further, especially if you have a specific gate\n",
    "    # set you want to target for execution.\n",
    "    # If you don't specify basis_gates, it will use the default basis gates of the backend.\n",
    "    if basis_gates:\n",
    "        pm.append(UnitarySynthesis(basis_gates=basis_gates))\n",
    "    return pm.run(qc)"
   ]
  },
  {
   "cell_type": "code",
   "execution_count": 103,
   "id": "87373398",
   "metadata": {},
   "outputs": [],
   "source": [
    "\n",
    "def build_random_test_circuit(n_qubits: int) -> QuantumCircuit:\n",
    "    # depth=10 is arbitrary; adjust as needed\n",
    "    qc = random_circuit(n_qubits, depth=10, max_operands=3, measure=True)#, seed=42)\n",
    "    return qc"
   ]
  },
  {
   "cell_type": "code",
   "execution_count": 115,
   "id": "9efb6736",
   "metadata": {},
   "outputs": [
    {
     "name": "stdout",
     "output_type": "stream",
     "text": [
      "Backend: aer_simulator_from(ibm_brisbane)\n",
      "Direct transpile opt level 0 took 0.185 seconds\n",
      "Direct transpile opt level 1 took 0.342 seconds\n",
      "Direct transpile opt level 2 took 0.903 seconds\n",
      "Preprocess + transpile 0 took 2.018 seconds\n",
      "Preprocess + transpile 1 took 2.067 seconds\n",
      "Preprocess + transpile 2 took 2.611 seconds\n",
      "\n",
      "--- Metrics Comparison ---\n"
     ]
    }
   ],
   "source": [
    "num_qubits = 50\n",
    "\n",
    "# Use GenericBackendV2 as an example IBM backend\n",
    "# backend = GenericBackendV2(num_qubits=num_qubits)\n",
    "\n",
    "backend = service.backend(\"ibm_brisbane\")\n",
    "seed_sim = 42\n",
    "backend = AerSimulator.from_backend(backend, seed_simulator=seed_sim)\n",
    "print(f\"Backend: {backend.name}\")\n",
    "basis = backend._basis_gates()\n",
    "\n",
    "# 1) Create original\n",
    "orig = build_random_test_circuit(num_qubits)\n",
    "\n",
    "# 2) Direct full transpile (opt level 0)\n",
    "start_time = time.time()\n",
    "direct_0 = transpile(orig, backend, optimization_level=0)\n",
    "print(f\"Direct transpile opt level 0 took {time.time() - start_time:.3f} seconds\")\n",
    "\n",
    "# 2) Direct full transpile (opt level 1)\n",
    "start_time = time.time()\n",
    "direct_1 = transpile(orig, backend, optimization_level=1)\n",
    "print(f\"Direct transpile opt level 1 took {time.time() - start_time:.3f} seconds\")\n",
    "\n",
    "# 2) Direct full transpile (opt level 2)\n",
    "start_time = time.time()\n",
    "direct_2 = transpile(orig, backend, optimization_level=2)\n",
    "print(f\"Direct transpile opt level 2 took {time.time() - start_time:.3f} seconds\")\n",
    "\n",
    "# 3) Preprocess + transpile (opt level 0)\n",
    "start_time = time.time()\n",
    "pre = preprocess_circuit(orig, basis_gates=basis, basic_passes=False)\n",
    "after_pre_0 = transpile(pre, backend, optimization_level=0)\n",
    "print(f\"Preprocess + transpile 0 took {time.time() - start_time:.3f} seconds\")\n",
    "\n",
    "# 3) Preprocess + transpile (opt level 1)\n",
    "start_time = time.time()\n",
    "pre = preprocess_circuit(orig, basis_gates=basis, basic_passes=False)\n",
    "after_pre_1 = transpile(pre, backend, optimization_level=1)\n",
    "print(f\"Preprocess + transpile 1 took {time.time() - start_time:.3f} seconds\")\n",
    "\n",
    "# 3) Preprocess + transpile (opt level 2)\n",
    "start_time = time.time()\n",
    "pre = preprocess_circuit(orig, basis_gates=basis, basic_passes=False)\n",
    "after_pre_2 = transpile(pre, backend, optimization_level=2)\n",
    "print(f\"Preprocess + transpile 2 took {time.time() - start_time:.3f} seconds\")\n",
    "\n",
    "# 4) Gather metrics\n",
    "def metrics(circ):\n",
    "    return {\n",
    "        \"depth\": circ.depth(),\n",
    "        \"total_gates\": len(circ.data),\n",
    "        \"total_ops\": sum(circ.count_ops().values()),\n",
    "        \"cx_count\": circ.count_ops().get(\"cx\", 0),\n",
    "        \"h_count\": circ.count_ops().get(\"h\", 0),\n",
    "        \"x_count\": circ.count_ops().get(\"x\", 0),\n",
    "        \"measure_count\": circ.count_ops().get(\"measure\", 0),\n",
    "        # \"reset_count\": circ.count_ops().get(\"reset\", 0),\n",
    "        # \"barrier_count\": circ.count_ops().get(\"barrier\", 0),\n",
    "        \"swap_count\": circ.count_ops().get(\"swap\", 0),\n",
    "        # \"unitary_count\": circ.count_ops().get(\"unitary\", 0),\n",
    "        # \"reset_in_zero_count\": circ.count_ops().get(\"reset_in_zero_state\", 0),\n",
    "        # \"diagonal_gates_before_measure_count\": circ.count_ops().get(\"diagonal_gates_before_measure\", 0),\n",
    "        # \"optimize_1q_gates_count\": circ.count_ops().get(\"optimize_1q_gates\", 0),\n",
    "        # \"commutation_analysis_count\": circ.count_ops().get(\"commutation_analysis\", 0,\n",
    "        # \"commutative_cancellation_count\": circ.count_ops().get(\"commutative_cancellation\", 0),\n",
    "        # \"collect_2q_blocks_count\": circ.count_ops().get(\"collect_2q_blocks\", 0),\n",
    "        # \"consolidate_blocks_count\": circ.count_ops().get(\"consolidate_blocks\", 0),\n",
    "        # \"unitary_synthesis_count\": circ.count_ops().get(\"unitary_synthesis\", 0),\n",
    "        \"num_qubits\": circ.num_qubits,\n",
    "        \"num_clbits\": circ.num_clbits,\n",
    "        \"num_qubits_used\": len(circ.qubits),\n",
    "        \"num_clbits_used\": len(circ.clbits),\n",
    "        \"num_cregs_used\": len(circ.cregs),\n",
    "        \"num_qregs_used\": len(circ.qregs),\n",
    "        # \"num_parameters\": len(circ.parameters),\n",
    "        # \"num_ancillas\": len(circ.ancillas),\n",
    "        # \"num_ancillass\": circ.num_ancillas,\n",
    "    }\n",
    "\n",
    "m_orig = metrics(orig)\n",
    "m_direct_0 = metrics(direct_0)\n",
    "m_direct_1 = metrics(direct_1)\n",
    "m_direct_2 = metrics(direct_2)\n",
    "m_after_pre_0 = metrics(after_pre_0)\n",
    "m_after_pre_1 = metrics(after_pre_1)\n",
    "m_after_pre_2 = metrics(after_pre_2)\n",
    "\n",
    "# 5) Print comparison\n",
    "print(\"\\n--- Metrics Comparison ---\")\n",
    "headers = [\n",
    "    \"Metric\",\n",
    "    \"Original\",\n",
    "    \"Direct_0\",\n",
    "    \"Direct_1\",\n",
    "    \"Direct_2\",\n",
    "    \"Pre+0\",\n",
    "    \"Pre+1\",\n",
    "    \"Pre+2\",\n",
    "]\n",
    "rows = []\n",
    "all_keys = m_orig.keys() #sorted(\n",
    "    #set(\n",
    "    #    m_orig.keys()\n",
    "    #    | m_direct_0.keys()\n",
    "    #    | m_direct_1.keys()\n",
    "    #    | m_direct_2.keys()\n",
    "    #    | m_after_pre_0.keys()\n",
    "    #    | m_after_pre_1.keys()\n",
    "    #    | m_after_pre_2.keys()\n",
    "    #)\n",
    "#)\n",
    "for key in all_keys:\n",
    "    rows.append(\n",
    "        [\n",
    "            key,\n",
    "            m_orig.get(key, \"\"),\n",
    "            m_direct_0.get(key, \"\"),\n",
    "            m_direct_1.get(key, \"\"),\n",
    "            m_direct_2.get(key, \"\"),\n",
    "            m_after_pre_0.get(key, \"\"),\n",
    "            m_after_pre_1.get(key, \"\"),\n",
    "            m_after_pre_2.get(key, \"\"),\n",
    "        ]\n",
    "    )"
   ]
  },
  {
   "cell_type": "code",
   "execution_count": 116,
   "id": "a8072d94",
   "metadata": {},
   "outputs": [
    {
     "name": "stdout",
     "output_type": "stream",
     "text": [
      "+-----------------+------------+------------+------------+------------+---------+---------+---------+\n",
      "| Metric          |   Original |   Direct_0 |   Direct_1 |   Direct_2 |   Pre+0 |   Pre+1 |   Pre+2 |\n",
      "+=================+============+============+============+============+=========+=========+=========+\n",
      "| depth           |         11 |       3885 |       1974 |       1762 |    3299 |    1290 |    1291 |\n",
      "+-----------------+------------+------------+------------+------------+---------+---------+---------+\n",
      "| total_gates     |        376 |      38641 |      12949 |      12732 |   27952 |    8282 |    7829 |\n",
      "+-----------------+------------+------------+------------+------------+---------+---------+---------+\n",
      "| total_ops       |        376 |      38641 |      12949 |      12732 |   27952 |    8282 |    7829 |\n",
      "+-----------------+------------+------------+------------+------------+---------+---------+---------+\n",
      "| cx_count        |          0 |          0 |          0 |          0 |       0 |       0 |       0 |\n",
      "+-----------------+------------+------------+------------+------------+---------+---------+---------+\n",
      "| h_count         |         11 |          0 |          0 |          0 |       0 |       0 |       0 |\n",
      "+-----------------+------------+------------+------------+------------+---------+---------+---------+\n",
      "| x_count         |         14 |        486 |        293 |        383 |     318 |     197 |     244 |\n",
      "+-----------------+------------+------------+------------+------------+---------+---------+---------+\n",
      "| measure_count   |         50 |         50 |         50 |         50 |      50 |      50 |      50 |\n",
      "+-----------------+------------+------------+------------+------------+---------+---------+---------+\n",
      "| swap_count      |          0 |          0 |          0 |          0 |       0 |       0 |       0 |\n",
      "+-----------------+------------+------------+------------+------------+---------+---------+---------+\n",
      "| num_qubits      |         50 |        127 |        127 |        127 |     127 |     127 |     127 |\n",
      "+-----------------+------------+------------+------------+------------+---------+---------+---------+\n",
      "| num_clbits      |         50 |         50 |         50 |         50 |      50 |      50 |      50 |\n",
      "+-----------------+------------+------------+------------+------------+---------+---------+---------+\n",
      "| num_qubits_used |         50 |        127 |        127 |        127 |     127 |     127 |     127 |\n",
      "+-----------------+------------+------------+------------+------------+---------+---------+---------+\n",
      "| num_clbits_used |         50 |         50 |         50 |         50 |      50 |      50 |      50 |\n",
      "+-----------------+------------+------------+------------+------------+---------+---------+---------+\n",
      "| num_cregs_used  |          1 |          1 |          1 |          1 |       1 |       1 |       1 |\n",
      "+-----------------+------------+------------+------------+------------+---------+---------+---------+\n",
      "| num_qregs_used  |          1 |          1 |          1 |          1 |       1 |       1 |       1 |\n",
      "+-----------------+------------+------------+------------+------------+---------+---------+---------+\n"
     ]
    }
   ],
   "source": [
    "print(tabulate(rows, headers=headers, tablefmt=\"grid\"))"
   ]
  },
  {
   "cell_type": "code",
   "execution_count": 106,
   "id": "4f061f67",
   "metadata": {},
   "outputs": [],
   "source": [
    "\n",
    "# print(\"\\n-- Directly Transpiled Circuit --\")\n",
    "# direct_0.draw()\n",
    "# direct_1.draw()\n",
    "# direct_2.draw()\n",
    "# print(\"\\n-- Preprocessed + Transpiled Circuit --\")\n",
    "# after_pre_0.draw()\n",
    "# after_pre_1.draw()\n",
    "# after_pre_2.draw()\n",
    "\n"
   ]
  },
  {
   "cell_type": "code",
   "execution_count": null,
   "id": "b265ea62",
   "metadata": {},
   "outputs": [],
   "source": []
  }
 ],
 "metadata": {
  "kernelspec": {
   "display_name": ".venv",
   "language": "python",
   "name": "python3"
  },
  "language_info": {
   "codemirror_mode": {
    "name": "ipython",
    "version": 3
   },
   "file_extension": ".py",
   "mimetype": "text/x-python",
   "name": "python",
   "nbconvert_exporter": "python",
   "pygments_lexer": "ipython3",
   "version": "3.13.0"
  }
 },
 "nbformat": 4,
 "nbformat_minor": 5
}
