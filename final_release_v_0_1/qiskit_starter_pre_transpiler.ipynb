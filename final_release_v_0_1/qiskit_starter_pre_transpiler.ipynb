{
 "cells": [
  {
   "cell_type": "markdown",
   "id": "cf64f8df",
   "metadata": {},
   "source": [
    "# Install and Import Qiskit\n",
    "This section will help you install Qiskit (if needed) and import its main modules."
   ]
  },
  {
   "cell_type": "code",
   "id": "d113e68b",
   "metadata": {
    "ExecuteTime": {
     "end_time": "2025-06-25T11:15:46.936225Z",
     "start_time": "2025-06-25T11:15:42.845586Z"
    }
   },
   "source": [
    "# If running in an environment where Qiskit is not installed, uncomment the next line:\n",
    "!pip install qiskit[all,visualization] qiskit-ibm-runtime qiskit-aer tabulate matplotlib numpy\n",
    "\n",
    "from qiskit_ibm_runtime import QiskitRuntimeService\n",
    "from qiskit_aer import AerSimulator\n",
    "import numpy as np\n",
    "\n",
    "from qiskit import QuantumCircuit, transpile\n",
    "from qiskit.transpiler import PassManager\n",
    "import time\n",
    "from tabulate import tabulate\n",
    "from qiskit.circuit.random import random_circuit\n",
    "from qiskit.transpiler.passes import (\n",
    "    RemoveResetInZeroState,\n",
    "    RemoveDiagonalGatesBeforeMeasure,\n",
    "    Optimize1qGates,\n",
    "    CommutationAnalysis,\n",
    "    CommutativeCancellation,\n",
    "    Collect2qBlocks,\n",
    "    ConsolidateBlocks,\n",
    "    UnitarySynthesis,\n",
    ")"
   ],
   "outputs": [
    {
     "name": "stdout",
     "output_type": "stream",
     "text": [
      "Requirement already satisfied: qiskit-ibm-runtime in c:\\dev\\quantum\\endava-qunatum-hackathon\\.venv\\lib\\site-packages (0.40.1)\n",
      "Requirement already satisfied: qiskit-aer in c:\\dev\\quantum\\endava-qunatum-hackathon\\.venv\\lib\\site-packages (0.17.1)\n",
      "Requirement already satisfied: tabulate in c:\\dev\\quantum\\endava-qunatum-hackathon\\.venv\\lib\\site-packages (0.9.0)\n",
      "Requirement already satisfied: matplotlib in c:\\dev\\quantum\\endava-qunatum-hackathon\\.venv\\lib\\site-packages (3.10.3)\n",
      "Requirement already satisfied: numpy in c:\\dev\\quantum\\endava-qunatum-hackathon\\.venv\\lib\\site-packages (2.3.1)\n",
      "Requirement already satisfied: qiskit[all,visualization] in c:\\dev\\quantum\\endava-qunatum-hackathon\\.venv\\lib\\site-packages (2.1.0)\n",
      "Requirement already satisfied: rustworkx>=0.15.0 in c:\\dev\\quantum\\endava-qunatum-hackathon\\.venv\\lib\\site-packages (from qiskit[all,visualization]) (0.16.0)\n",
      "Requirement already satisfied: scipy>=1.5 in c:\\dev\\quantum\\endava-qunatum-hackathon\\.venv\\lib\\site-packages (from qiskit[all,visualization]) (1.16.0)\n",
      "Requirement already satisfied: dill>=0.3 in c:\\dev\\quantum\\endava-qunatum-hackathon\\.venv\\lib\\site-packages (from qiskit[all,visualization]) (0.4.0)\n",
      "Requirement already satisfied: stevedore>=3.0.0 in c:\\dev\\quantum\\endava-qunatum-hackathon\\.venv\\lib\\site-packages (from qiskit[all,visualization]) (5.4.1)\n",
      "Requirement already satisfied: typing-extensions in c:\\dev\\quantum\\endava-qunatum-hackathon\\.venv\\lib\\site-packages (from qiskit[all,visualization]) (4.14.0)\n",
      "Requirement already satisfied: pydot in c:\\dev\\quantum\\endava-qunatum-hackathon\\.venv\\lib\\site-packages (from qiskit[all,visualization]) (4.0.1)\n",
      "Requirement already satisfied: Pillow>=4.2.1 in c:\\dev\\quantum\\endava-qunatum-hackathon\\.venv\\lib\\site-packages (from qiskit[all,visualization]) (11.2.1)\n",
      "Requirement already satisfied: pylatexenc>=1.4 in c:\\dev\\quantum\\endava-qunatum-hackathon\\.venv\\lib\\site-packages (from qiskit[all,visualization]) (2.10)\n",
      "Requirement already satisfied: seaborn>=0.9.0 in c:\\dev\\quantum\\endava-qunatum-hackathon\\.venv\\lib\\site-packages (from qiskit[all,visualization]) (0.13.2)\n",
      "Requirement already satisfied: sympy>=1.3 in c:\\dev\\quantum\\endava-qunatum-hackathon\\.venv\\lib\\site-packages (from qiskit[all,visualization]) (1.14.0)\n",
      "Requirement already satisfied: requests>=2.19 in c:\\dev\\quantum\\endava-qunatum-hackathon\\.venv\\lib\\site-packages (from qiskit-ibm-runtime) (2.32.4)\n",
      "Requirement already satisfied: requests-ntlm>=1.1.0 in c:\\dev\\quantum\\endava-qunatum-hackathon\\.venv\\lib\\site-packages (from qiskit-ibm-runtime) (1.3.0)\n",
      "Requirement already satisfied: urllib3>=1.21.1 in c:\\dev\\quantum\\endava-qunatum-hackathon\\.venv\\lib\\site-packages (from qiskit-ibm-runtime) (2.5.0)\n",
      "Requirement already satisfied: python-dateutil>=2.8.0 in c:\\dev\\quantum\\endava-qunatum-hackathon\\.venv\\lib\\site-packages (from qiskit-ibm-runtime) (2.9.0.post0)\n",
      "Requirement already satisfied: ibm-platform-services>=0.22.6 in c:\\dev\\quantum\\endava-qunatum-hackathon\\.venv\\lib\\site-packages (from qiskit-ibm-runtime) (0.66.2)\n",
      "Requirement already satisfied: pydantic>=2.5.0 in c:\\dev\\quantum\\endava-qunatum-hackathon\\.venv\\lib\\site-packages (from qiskit-ibm-runtime) (2.11.7)\n",
      "Requirement already satisfied: packaging in c:\\dev\\quantum\\endava-qunatum-hackathon\\.venv\\lib\\site-packages (from qiskit-ibm-runtime) (25.0)\n",
      "Requirement already satisfied: psutil>=5 in c:\\dev\\quantum\\endava-qunatum-hackathon\\.venv\\lib\\site-packages (from qiskit-aer) (7.0.0)\n",
      "Requirement already satisfied: contourpy>=1.0.1 in c:\\dev\\quantum\\endava-qunatum-hackathon\\.venv\\lib\\site-packages (from matplotlib) (1.3.2)\n",
      "Requirement already satisfied: cycler>=0.10 in c:\\dev\\quantum\\endava-qunatum-hackathon\\.venv\\lib\\site-packages (from matplotlib) (0.12.1)\n",
      "Requirement already satisfied: fonttools>=4.22.0 in c:\\dev\\quantum\\endava-qunatum-hackathon\\.venv\\lib\\site-packages (from matplotlib) (4.58.4)\n",
      "Requirement already satisfied: kiwisolver>=1.3.1 in c:\\dev\\quantum\\endava-qunatum-hackathon\\.venv\\lib\\site-packages (from matplotlib) (1.4.8)\n",
      "Requirement already satisfied: pyparsing>=2.3.1 in c:\\dev\\quantum\\endava-qunatum-hackathon\\.venv\\lib\\site-packages (from matplotlib) (3.2.3)\n",
      "Requirement already satisfied: ibm_cloud_sdk_core<4.0.0,>=3.24.2 in c:\\dev\\quantum\\endava-qunatum-hackathon\\.venv\\lib\\site-packages (from ibm-platform-services>=0.22.6->qiskit-ibm-runtime) (3.24.2)\n",
      "Requirement already satisfied: PyJWT<3.0.0,>=2.10.1 in c:\\dev\\quantum\\endava-qunatum-hackathon\\.venv\\lib\\site-packages (from ibm_cloud_sdk_core<4.0.0,>=3.24.2->ibm-platform-services>=0.22.6->qiskit-ibm-runtime) (2.10.1)\n",
      "Requirement already satisfied: six>=1.5 in c:\\dev\\quantum\\endava-qunatum-hackathon\\.venv\\lib\\site-packages (from python-dateutil>=2.8.0->qiskit-ibm-runtime) (1.17.0)\n",
      "Requirement already satisfied: charset_normalizer<4,>=2 in c:\\dev\\quantum\\endava-qunatum-hackathon\\.venv\\lib\\site-packages (from requests>=2.19->qiskit-ibm-runtime) (3.4.2)\n",
      "Requirement already satisfied: idna<4,>=2.5 in c:\\dev\\quantum\\endava-qunatum-hackathon\\.venv\\lib\\site-packages (from requests>=2.19->qiskit-ibm-runtime) (3.10)\n",
      "Requirement already satisfied: certifi>=2017.4.17 in c:\\dev\\quantum\\endava-qunatum-hackathon\\.venv\\lib\\site-packages (from requests>=2.19->qiskit-ibm-runtime) (2025.6.15)\n",
      "Requirement already satisfied: annotated-types>=0.6.0 in c:\\dev\\quantum\\endava-qunatum-hackathon\\.venv\\lib\\site-packages (from pydantic>=2.5.0->qiskit-ibm-runtime) (0.7.0)\n",
      "Requirement already satisfied: pydantic-core==2.33.2 in c:\\dev\\quantum\\endava-qunatum-hackathon\\.venv\\lib\\site-packages (from pydantic>=2.5.0->qiskit-ibm-runtime) (2.33.2)\n",
      "Requirement already satisfied: typing-inspection>=0.4.0 in c:\\dev\\quantum\\endava-qunatum-hackathon\\.venv\\lib\\site-packages (from pydantic>=2.5.0->qiskit-ibm-runtime) (0.4.1)\n",
      "Requirement already satisfied: cryptography>=1.3 in c:\\dev\\quantum\\endava-qunatum-hackathon\\.venv\\lib\\site-packages (from requests-ntlm>=1.1.0->qiskit-ibm-runtime) (45.0.4)\n",
      "Requirement already satisfied: pyspnego>=0.4.0 in c:\\dev\\quantum\\endava-qunatum-hackathon\\.venv\\lib\\site-packages (from requests-ntlm>=1.1.0->qiskit-ibm-runtime) (0.11.2)\n",
      "Requirement already satisfied: cffi>=1.14 in c:\\dev\\quantum\\endava-qunatum-hackathon\\.venv\\lib\\site-packages (from cryptography>=1.3->requests-ntlm>=1.1.0->qiskit-ibm-runtime) (1.17.1)\n",
      "Requirement already satisfied: pycparser in c:\\dev\\quantum\\endava-qunatum-hackathon\\.venv\\lib\\site-packages (from cffi>=1.14->cryptography>=1.3->requests-ntlm>=1.1.0->qiskit-ibm-runtime) (2.22)\n",
      "Requirement already satisfied: sspilib>=0.1.0 in c:\\dev\\quantum\\endava-qunatum-hackathon\\.venv\\lib\\site-packages (from pyspnego>=0.4.0->requests-ntlm>=1.1.0->qiskit-ibm-runtime) (0.3.1)\n",
      "Requirement already satisfied: pandas>=1.2 in c:\\dev\\quantum\\endava-qunatum-hackathon\\.venv\\lib\\site-packages (from seaborn>=0.9.0->qiskit[all,visualization]) (2.3.0)\n",
      "Requirement already satisfied: pytz>=2020.1 in c:\\dev\\quantum\\endava-qunatum-hackathon\\.venv\\lib\\site-packages (from pandas>=1.2->seaborn>=0.9.0->qiskit[all,visualization]) (2025.2)\n",
      "Requirement already satisfied: tzdata>=2022.7 in c:\\dev\\quantum\\endava-qunatum-hackathon\\.venv\\lib\\site-packages (from pandas>=1.2->seaborn>=0.9.0->qiskit[all,visualization]) (2025.2)\n",
      "Requirement already satisfied: pbr>=2.0.0 in c:\\dev\\quantum\\endava-qunatum-hackathon\\.venv\\lib\\site-packages (from stevedore>=3.0.0->qiskit[all,visualization]) (6.1.1)\n",
      "Requirement already satisfied: setuptools in c:\\dev\\quantum\\endava-qunatum-hackathon\\.venv\\lib\\site-packages (from pbr>=2.0.0->stevedore>=3.0.0->qiskit[all,visualization]) (80.9.0)\n",
      "Requirement already satisfied: mpmath<1.4,>=1.1.0 in c:\\dev\\quantum\\endava-qunatum-hackathon\\.venv\\lib\\site-packages (from sympy>=1.3->qiskit[all,visualization]) (1.3.0)\n",
      "Requirement already satisfied: qiskit-qasm3-import>=0.1.0 in c:\\dev\\quantum\\endava-qunatum-hackathon\\.venv\\lib\\site-packages (from qiskit[all,visualization]) (0.6.0)\n",
      "Requirement already satisfied: z3-solver>=4.7 in c:\\dev\\quantum\\endava-qunatum-hackathon\\.venv\\lib\\site-packages (from qiskit[all,visualization]) (4.15.1.0)\n",
      "Requirement already satisfied: python-constraint>=1.4 in c:\\dev\\quantum\\endava-qunatum-hackathon\\.venv\\lib\\site-packages (from qiskit[all,visualization]) (1.4.0)\n",
      "Requirement already satisfied: symengine<0.14,>=0.11 in c:\\dev\\quantum\\endava-qunatum-hackathon\\.venv\\lib\\site-packages (from qiskit[all,visualization]) (0.13.0)\n",
      "Requirement already satisfied: openqasm3<2.0,>=0.4 in c:\\dev\\quantum\\endava-qunatum-hackathon\\.venv\\lib\\site-packages (from openqasm3[parser]<2.0,>=0.4->qiskit-qasm3-import>=0.1.0->qiskit[all,visualization]) (1.0.1)\n",
      "Requirement already satisfied: antlr4_python3_runtime<4.14,>=4.7 in c:\\dev\\quantum\\endava-qunatum-hackathon\\.venv\\lib\\site-packages (from openqasm3[parser]<2.0,>=0.4->qiskit-qasm3-import>=0.1.0->qiskit[all,visualization]) (4.13.2)\n"
     ]
    }
   ],
   "execution_count": 1
  },
  {
   "cell_type": "markdown",
   "id": "dee55699",
   "metadata": {},
   "source": [
    "# Check Qiskit Version\n",
    "Print the installed Qiskit version to confirm the environment setup."
   ]
  },
  {
   "cell_type": "code",
   "id": "c9207f1c",
   "metadata": {
    "ExecuteTime": {
     "end_time": "2025-06-25T11:15:46.962460Z",
     "start_time": "2025-06-25T11:15:46.953522Z"
    }
   },
   "source": [
    "import qiskit\n",
    "print(\"Qiskit version:\", qiskit.__version__)"
   ],
   "outputs": [
    {
     "name": "stdout",
     "output_type": "stream",
     "text": [
      "Qiskit version: 2.1.0\n"
     ]
    }
   ],
   "execution_count": 2
  },
  {
   "cell_type": "markdown",
   "id": "25886aef",
   "metadata": {},
   "source": [
    "# Create the service provider\n",
    "Create a service provider instance to manage the quantum backend and other configurations."
   ]
  },
  {
   "cell_type": "code",
   "id": "f538448f",
   "metadata": {
    "ExecuteTime": {
     "end_time": "2025-06-25T11:15:55.701019Z",
     "start_time": "2025-06-25T11:15:47.373334Z"
    }
   },
   "source": [
    "# Initialize the Qiskit Runtime Service\n",
    "service = QiskitRuntimeService(\n",
    "    channel=\"ibm_quantum\",\n",
    "    instance=\"ibm-q/open/main\",  # =\"<IBM Cloud CRN or instance name>\", # Optionally specify the instance to use.\n",
    "    token=\"ff85fe47849322f7afe26d0983205dfe03f5f14a2fd87d9a7d321fee1ca1b20f2442eec2d61cf900bace24e6c7484ae0e89ef2da6bf3893a80ac371310d9d5c6\",\n",
    ")\n",
    "# List all available backends\n",
    "backends = service.backends()\n",
    "print(\"Available backends:\")\n",
    "for backend in backends:\n",
    "    print(f\"- {backend.name} ({backend.status})\")"
   ],
   "outputs": [
    {
     "name": "stderr",
     "output_type": "stream",
     "text": [
      "C:\\Users\\Nemanja\\AppData\\Local\\Temp\\ipykernel_16292\\3052438554.py:2: DeprecationWarning: The \"ibm_quantum\" channel option is deprecated and will be sunset on 1 July. After this date, \"ibm_cloud\", \"ibm_quantum_platform\", and \"local\" will be the only valid channels. Open Plan users should migrate now.  All other users should review the migration guide (https://quantum.cloud.ibm.com/docs/migration-guides/classic-iqp-to-cloud-iqp)to learn when to migrate.\n",
      "  service = QiskitRuntimeService(\n"
     ]
    },
    {
     "name": "stdout",
     "output_type": "stream",
     "text": [
      "Available backends:\n",
      "- ibm_brisbane (<bound method IBMBackend.status of <IBMBackend('ibm_brisbane')>>)\n",
      "- ibm_sherbrooke (<bound method IBMBackend.status of <IBMBackend('ibm_sherbrooke')>>)\n"
     ]
    }
   ],
   "execution_count": 3
  },
  {
   "metadata": {},
   "cell_type": "markdown",
   "source": "",
   "id": "e34008a54b93972a"
  },
  {
   "cell_type": "markdown",
   "id": "98c8edec",
   "metadata": {},
   "source": [
    "# Preprocessing Quantum Circuits with Transpiler Passes\n",
    "\n",
    "This cell defines a function `preprocess_circuit` that applies a sequence of Qiskit transpiler passes to optimize and simplify a given quantum circuit. The function uses passes such as removing resets in the zero state, eliminating diagonal gates before measurement, optimizing single-qubit gates, analyzing and canceling commutative gates, collecting two-qubit blocks, and consolidating blocks. Optionally, it can also synthesize unitary gates into a specified set of basis gates for further optimization."
   ]
  },
  {
   "cell_type": "code",
   "id": "7458196e",
   "metadata": {
    "ExecuteTime": {
     "end_time": "2025-06-25T11:15:59.358634Z",
     "start_time": "2025-06-25T11:15:59.346948Z"
    }
   },
   "source": [
    "def preprocess_circuit(qc: QuantumCircuit, basis_gates=None, basic_passes = True) -> QuantumCircuit:\n",
    "    \"\"\"\n",
    "    This function serves as a preprocessing step for quantum circuits prior to transpilation, applying a series of transformation passes to optimize and simplify the circuit structure.\n",
    "\n",
    "    :param qc: quantum  circuit\n",
    "    :param basis_gates: basic gates\n",
    "    :param basic_passes: basic passed\n",
    "    :return:  quantum circuit\n",
    "    \"\"\"\n",
    "    pm = PassManager()\n",
    "    pm.append(RemoveResetInZeroState())\n",
    "    pm.append(RemoveDiagonalGatesBeforeMeasure())\n",
    "    pm.append(Optimize1qGates())\n",
    "    pm.append(CommutationAnalysis())\n",
    "    pm.append(CommutativeCancellation())\n",
    "    pm.append(Collect2qBlocks())\n",
    "    pm.append(ConsolidateBlocks())\n",
    "    # The following passes are commented out as they may not be necessary for all circuits.\n",
    "    # Uncomment them if you want to include them in your preprocessing pipeline.\n",
    "    # RemoveBarriers removes barriers from the circuit, which can be useful for optimization.\n",
    "    # CXCancellation removes controlled-X gates that are not needed, which can simplify the circuit.\n",
    "    # RemoveUnusedRegisters removes any unused quantum or classical registers from the circuit.\n",
    "    if not basic_passes:\n",
    "        from qiskit.transpiler.passes import RemoveBarriers, Optimize1qGatesDecomposition, Collect1qRuns, CollectMultiQBlocks, CollectAndCollapse, CollectLinearFunctions, CollectCliffords, InverseCancellation, CommutativeInverseCancellation, Optimize1qGatesSimpleCommutation, RemoveFinalReset, HoareOptimizer, TemplateOptimization, ResetAfterMeasureSimplification, OptimizeCliffords, ElidePermutations, OptimizeAnnotated, Split2QUnitaries, RemoveIdentityEquivalent, ContractIdleWiresInControlFlow, OptimizeCliffordT\n",
    "        pm.append(RemoveBarriers())\n",
    "        pm.append(Optimize1qGatesDecomposition())\n",
    "        pm.append(Collect1qRuns())\n",
    "        pm.append(CollectMultiQBlocks())\n",
    "        #pm.append(CollectAndCollapse())\n",
    "        pm.append(CollectLinearFunctions())\n",
    "        #pm.append(CollectCliffords())\n",
    "        #pm.append(InverseCancellation())\n",
    "        pm.append(CommutativeInverseCancellation())\n",
    "        pm.append(Optimize1qGatesSimpleCommutation())\n",
    "        pm.append(RemoveFinalReset())\n",
    "        pm.append(HoareOptimizer())\n",
    "        pm.append(TemplateOptimization())\n",
    "        pm.append(ResetAfterMeasureSimplification())\n",
    "        pm.append(OptimizeCliffords())\n",
    "        pm.append(ElidePermutations())\n",
    "        pm.append(OptimizeAnnotated())\n",
    "        pm.append(Split2QUnitaries())\n",
    "        pm.append(RemoveIdentityEquivalent())\n",
    "        pm.append(ContractIdleWiresInControlFlow())\n",
    "        pm.append(OptimizeCliffordT())\n",
    "\n",
    "    # Optionally add UnitarySynthesis if basis_gates are provided\n",
    "    # This pass synthesizes unitary gates into the specified basis gates.\n",
    "    # It can be useful for optimizing the circuit further, especially if you have a specific gate\n",
    "    # set you want to target for execution.\n",
    "    # If you don't specify basis_gates, it will use the default basis gates of the backend.\n",
    "    if basis_gates:\n",
    "        pm.append(UnitarySynthesis(basis_gates=basis_gates))\n",
    "    return pm.run(qc)"
   ],
   "outputs": [],
   "execution_count": 4
  },
  {
   "metadata": {
    "ExecuteTime": {
     "end_time": "2025-06-25T11:15:59.399631Z",
     "start_time": "2025-06-25T11:15:59.394447Z"
    }
   },
   "cell_type": "code",
   "source": [
    "def test_ghz_circuit(n_qubits: int) -> QuantumCircuit:\n",
    "    \"\"\"Create large GHZ state with 20+ qubits\"\"\"\n",
    "    qc = QuantumCircuit(n_qubits, name=f'Large_GHZ_{n_qubits}')\n",
    "\n",
    "    # Create superposition on first qubit\n",
    "    qc.h(0)\n",
    "\n",
    "    # Entangle all qubits with the first one\n",
    "    for i in range(1, n_qubits):\n",
    "        qc.cx(0, i)\n",
    "\n",
    "    print(f\"✅ Created {n_qubits}-qubit large GHZ state\")\n",
    "    return qc"
   ],
   "id": "93f94ef121989939",
   "outputs": [],
   "execution_count": 5
  },
  {
   "metadata": {
    "ExecuteTime": {
     "end_time": "2025-06-25T11:15:59.431943Z",
     "start_time": "2025-06-25T11:15:59.423339Z"
    }
   },
   "cell_type": "code",
   "source": [
    "def test_create_deutsch_jozsa(n_qubits: int, oracle_type: str = 'constant') -> QuantumCircuit:\n",
    "    \"\"\"Create Deutsch-Jozsa algorithm circuit\"\"\"\n",
    "    # n input qubits + 1 ancilla\n",
    "    qc = QuantumCircuit(n_qubits + 1, n_qubits, name=f'Deutsch_Jozsa_{oracle_type}')\n",
    "\n",
    "    # Initialize ancilla in |1⟩\n",
    "    qc.x(n_qubits)\n",
    "\n",
    "    # Apply Hadamard to all qubits\n",
    "    for i in range(n_qubits + 1):\n",
    "        qc.h(i)\n",
    "\n",
    "    qc.barrier(label=\"Superposition\")\n",
    "\n",
    "    # Oracle implementation\n",
    "    if oracle_type == 'constant_0':\n",
    "        # Do nothing - f(x) = 0 for all x\n",
    "        pass\n",
    "    elif oracle_type == 'constant_1':\n",
    "        # Flip ancilla - f(x) = 1 for all x\n",
    "        qc.x(n_qubits)\n",
    "    elif oracle_type == 'balanced':\n",
    "        # Example balanced function: f(x) = x_0 ⊕ x_1 ⊕ ... (XOR of all inputs)\n",
    "        for i in range(n_qubits):\n",
    "            qc.cx(i, n_qubits)\n",
    "\n",
    "    qc.barrier(label=\"Oracle\")\n",
    "\n",
    "    # Apply Hadamard to input qubits\n",
    "    for i in range(n_qubits):\n",
    "        qc.h(i)\n",
    "\n",
    "    # Measure input qubits\n",
    "    for i in range(n_qubits):\n",
    "        qc.measure(i, i)\n",
    "\n",
    "    print(f\"✅ Created Deutsch-Jozsa algorithm ({oracle_type})\")\n",
    "    return qc"
   ],
   "id": "b0dca2a17b6f522",
   "outputs": [],
   "execution_count": 6
  },
  {
   "metadata": {
    "ExecuteTime": {
     "end_time": "2025-06-25T11:15:59.478804Z",
     "start_time": "2025-06-25T11:15:59.471166Z"
    }
   },
   "cell_type": "code",
   "source": [
    "def test_create_qft(n_qubits: int = 3) -> QuantumCircuit:\n",
    "    \"\"\"Create Quantum Fourier Transform circuit\"\"\"\n",
    "    qc = QuantumCircuit(n_qubits, name=f'QFT_{n_qubits}')\n",
    "\n",
    "    def qft_rotations(circuit, n):\n",
    "        \"\"\"Apply the rotations for QFT\"\"\"\n",
    "        if n == 0:\n",
    "            return circuit\n",
    "        n -= 1\n",
    "        circuit.h(n)\n",
    "        for qubit in range(n):\n",
    "            circuit.cp(np.pi / 2 ** (n - qubit), qubit, n)\n",
    "        qft_rotations(circuit, n)\n",
    "\n",
    "    qft_rotations(qc, n_qubits)\n",
    "\n",
    "    # Swap qubits to get correct order\n",
    "    for qubit in range(n_qubits // 2):\n",
    "        qc.swap(qubit, n_qubits - qubit - 1)\n",
    "\n",
    "    print(f\"✅ Created {n_qubits}-qubit QFT circuit\")\n",
    "    return qc"
   ],
   "id": "5ee54b4fe86c0d75",
   "outputs": [],
   "execution_count": 7
  },
  {
   "metadata": {
    "ExecuteTime": {
     "end_time": "2025-06-25T11:15:59.549153Z",
     "start_time": "2025-06-25T11:15:59.543035Z"
    }
   },
   "cell_type": "code",
   "source": [
    "def test_build_random_test_circuit(n_qubits: int) -> QuantumCircuit:\n",
    "    # depth=10 is arbitrary; adjust as needed\n",
    "    qc = random_circuit(n_qubits, depth=10, max_operands=3, measure=True)#, seed=42)\n",
    "    return qc"
   ],
   "id": "87373398",
   "outputs": [],
   "execution_count": 8
  },
  {
   "metadata": {
    "ExecuteTime": {
     "end_time": "2025-06-25T11:22:28.979399Z",
     "start_time": "2025-06-25T11:22:14.250441Z"
    }
   },
   "cell_type": "code",
   "source": [
    "num_qubits = 50\n",
    "\n",
    "backend = service.backend(\"ibm_brisbane\")\n",
    "seed_sim = 42\n",
    "backend = AerSimulator.from_backend(backend, seed_simulator=seed_sim)\n",
    "print(f\"Backend: {backend.name}\")\n",
    "basis = backend._basis_gates()\n",
    "\n",
    "# Create test circuits, please uncomment one that you want to test\n",
    "# orig = test_ghz_circuit(num_qubits)\n",
    "orig = test_build_random_test_circuit(num_qubits)\n",
    "# orig = test_create_deutsch_jozsa(num_qubits)\n",
    "# oring = test_create_qft(num_qubits)\n",
    "\n",
    "# 1) Direct full transpile (optimization level 0)\n",
    "start_time = time.time()\n",
    "direct_0 = transpile(orig, backend, optimization_level=0)\n",
    "print(f\"Direct transpile opt level 0 took {time.time() - start_time:.3f} seconds\")\n",
    "\n",
    "# 2) Direct full transpile (optimization level 1)\n",
    "start_time = time.time()\n",
    "direct_1 = transpile(orig, backend, optimization_level=1)\n",
    "print(f\"Direct transpile opt level 1 took {time.time() - start_time:.3f} seconds\")\n",
    "\n",
    "# 3) Direct full transpile (optimization level 2)\n",
    "start_time = time.time()\n",
    "direct_2 = transpile(orig, backend, optimization_level=2)\n",
    "print(f\"Direct transpile opt level 2 took {time.time() - start_time:.3f} seconds\")\n",
    "\n",
    "# 4) Direct full transpile (optimization level 3)\n",
    "start_time = time.time()\n",
    "direct_3 = transpile(orig, backend, optimization_level=3)\n",
    "print(f\"Direct transpile opt level 3 took {time.time() - start_time:.3f} seconds\")\n",
    "\n",
    "# 5) Preprocess + transpile (optimization level 0)\n",
    "start_time = time.time()\n",
    "pre = preprocess_circuit(orig, basis_gates=basis, basic_passes=False)\n",
    "after_pre_0 = transpile(pre, backend, optimization_level=0)\n",
    "print(f\"Preprocess + transpile 0 took {time.time() - start_time:.3f} seconds\")\n",
    "\n",
    "# 6) Preprocess + transpile (optimization level 1)\n",
    "start_time = time.time()\n",
    "pre = preprocess_circuit(orig, basis_gates=basis, basic_passes=False)\n",
    "after_pre_1 = transpile(pre, backend, optimization_level=1)\n",
    "print(f\"Preprocess + transpile 1 took {time.time() - start_time:.3f} seconds\")\n",
    "\n",
    "# 7) Preprocess + transpile (optimization level 2)\n",
    "start_time = time.time()\n",
    "pre = preprocess_circuit(orig, basis_gates=basis, basic_passes=False)\n",
    "after_pre_2 = transpile(pre, backend, optimization_level=2)\n",
    "print(f\"Preprocess + transpile 2 took {time.time() - start_time:.3f} seconds\")\n",
    "\n",
    "# 8) Preprocess + transpile (optimization level 3)\n",
    "start_time = time.time()\n",
    "pre = preprocess_circuit(orig, basis_gates=basis, basic_passes=False)\n",
    "after_pre_3 = transpile(pre, backend, optimization_level=3)\n",
    "print(f\"Preprocess + transpile 3 took {time.time() - start_time:.3f} seconds\")\n",
    "\n",
    "# 4) Gather metrics\n",
    "def metrics(circ):\n",
    "    return {\n",
    "        \"depth\": circ.depth(),\n",
    "        \"total_gates\": len(circ.data),\n",
    "        \"total_ops\": sum(circ.count_ops().values()),\n",
    "        \"cx_count\": circ.count_ops().get(\"cx\", 0),\n",
    "        \"h_count\": circ.count_ops().get(\"h\", 0),\n",
    "        \"x_count\": circ.count_ops().get(\"x\", 0),\n",
    "        \"measure_count\": circ.count_ops().get(\"measure\", 0),\n",
    "        # \"reset_count\": circ.count_ops().get(\"reset\", 0),\n",
    "        # \"barrier_count\": circ.count_ops().get(\"barrier\", 0),\n",
    "        \"swap_count\": circ.count_ops().get(\"swap\", 0),\n",
    "        # \"unitary_count\": circ.count_ops().get(\"unitary\", 0),\n",
    "        # \"reset_in_zero_count\": circ.count_ops().get(\"reset_in_zero_state\", 0),\n",
    "        # \"diagonal_gates_before_measure_count\": circ.count_ops().get(\"diagonal_gates_before_measure\", 0),\n",
    "        # \"optimize_1q_gates_count\": circ.count_ops().get(\"optimize_1q_gates\", 0),\n",
    "        # \"commutation_analysis_count\": circ.count_ops().get(\"commutation_analysis\", 0,\n",
    "        # \"commutative_cancellation_count\": circ.count_ops().get(\"commutative_cancellation\", 0),\n",
    "        # \"collect_2q_blocks_count\": circ.count_ops().get(\"collect_2q_blocks\", 0),\n",
    "        # \"consolidate_blocks_count\": circ.count_ops().get(\"consolidate_blocks\", 0),\n",
    "        # \"unitary_synthesis_count\": circ.count_ops().get(\"unitary_synthesis\", 0),\n",
    "        \"num_qubits\": circ.num_qubits,\n",
    "        \"num_clbits\": circ.num_clbits,\n",
    "        \"num_qubits_used\": len(circ.qubits),\n",
    "        \"num_clbits_used\": len(circ.clbits),\n",
    "        \"num_cregs_used\": len(circ.cregs),\n",
    "        \"num_qregs_used\": len(circ.qregs),\n",
    "        # \"num_parameters\": len(circ.parameters),\n",
    "        # \"num_ancillas\": len(circ.ancillas),\n",
    "        # \"num_ancillass\": circ.num_ancillas,\n",
    "    }\n",
    "\n",
    "m_orig = metrics(orig)\n",
    "m_direct_0 = metrics(direct_0)\n",
    "m_direct_1 = metrics(direct_1)\n",
    "m_direct_2 = metrics(direct_2)\n",
    "m_direct_3 = metrics(direct_3)\n",
    "m_after_pre_0 = metrics(after_pre_0)\n",
    "m_after_pre_1 = metrics(after_pre_1)\n",
    "m_after_pre_2 = metrics(after_pre_2)\n",
    "m_after_pre_3 = metrics(after_pre_3)\n",
    "\n",
    "# 5) Print comparison\n",
    "print(\"\\n--- Metrics Comparison ---\")\n",
    "headers = [\n",
    "    \"Metric\",\n",
    "    \"Original\",\n",
    "    \"Direct_0\",\n",
    "    \"Direct_1\",\n",
    "    \"Direct_2\",\n",
    "    \"Direct_3\",\n",
    "    \"Pre+0\",\n",
    "    \"Pre+1\",\n",
    "    \"Pre+2\",\n",
    "    \"Pre+3\"\n",
    "\n",
    "]\n",
    "rows = []\n",
    "all_keys = m_orig.keys()\n",
    "for key in all_keys:\n",
    "    rows.append(\n",
    "        [\n",
    "            key,\n",
    "            m_orig.get(key, \"\"),\n",
    "            m_direct_0.get(key, \"\"),\n",
    "            m_direct_1.get(key, \"\"),\n",
    "            m_direct_2.get(key, \"\"),\n",
    "            m_direct_3.get(key, \"\"),\n",
    "            m_after_pre_0.get(key, \"\"),\n",
    "            m_after_pre_1.get(key, \"\"),\n",
    "            m_after_pre_2.get(key, \"\"),\n",
    "            m_after_pre_3.get(key, \"\")\n",
    "        ]\n",
    "    )"
   ],
   "id": "9efb6736",
   "outputs": [
    {
     "name": "stdout",
     "output_type": "stream",
     "text": [
      "Backend: aer_simulator_from(ibm_brisbane)\n",
      "Direct transpile opt level 0 took 0.247 seconds\n",
      "Direct transpile opt level 1 took 0.367 seconds\n",
      "Direct transpile opt level 2 took 0.922 seconds\n",
      "Direct transpile opt level 3 took 1.497 seconds\n",
      "Preprocess + transpile 0 took 1.535 seconds\n",
      "Preprocess + transpile 1 took 0.884 seconds\n",
      "Preprocess + transpile 2 took 1.154 seconds\n",
      "Preprocess + transpile 3 took 3.157 seconds\n",
      "\n",
      "--- Metrics Comparison ---\n"
     ]
    }
   ],
   "execution_count": 14
  },
  {
   "metadata": {
    "ExecuteTime": {
     "end_time": "2025-06-25T11:23:21.434048Z",
     "start_time": "2025-06-25T11:23:21.425479Z"
    }
   },
   "cell_type": "code",
   "source": "print(tabulate(rows, headers=headers, tablefmt=\"grid\"))",
   "id": "a8072d94",
   "outputs": [
    {
     "name": "stdout",
     "output_type": "stream",
     "text": [
      "+-----------------+------------+------------+------------+------------+------------+---------+---------+---------+---------+\n",
      "| Metric          |   Original |   Direct_0 |   Direct_1 |   Direct_2 |   Direct_3 |   Pre+0 |   Pre+1 |   Pre+2 |   Pre+3 |\n",
      "+=================+============+============+============+============+============+=========+=========+=========+=========+\n",
      "| depth           |         11 |       4772 |       2500 |       1886 |       2321 |    3566 |    1673 |    1624 |    1357 |\n",
      "+-----------------+------------+------------+------------+------------+------------+---------+---------+---------+---------+\n",
      "| total_gates     |        337 |      50371 |      17051 |      16075 |      16606 |   29809 |    9328 |    8760 |    8646 |\n",
      "+-----------------+------------+------------+------------+------------+------------+---------+---------+---------+---------+\n",
      "| total_ops       |        337 |      50371 |      17051 |      16075 |      16606 |   29809 |    9328 |    8760 |    8646 |\n",
      "+-----------------+------------+------------+------------+------------+------------+---------+---------+---------+---------+\n",
      "| cx_count        |          0 |          0 |          0 |          0 |          0 |       0 |       0 |       0 |       0 |\n",
      "+-----------------+------------+------------+------------+------------+------------+---------+---------+---------+---------+\n",
      "| h_count         |          9 |          0 |          0 |          0 |          0 |       0 |       0 |       0 |       0 |\n",
      "+-----------------+------------+------------+------------+------------+------------+---------+---------+---------+---------+\n",
      "| x_count         |          8 |        633 |        363 |        462 |        542 |     353 |     205 |     276 |     271 |\n",
      "+-----------------+------------+------------+------------+------------+------------+---------+---------+---------+---------+\n",
      "| measure_count   |         50 |         50 |         50 |         50 |         50 |      50 |      50 |      50 |      50 |\n",
      "+-----------------+------------+------------+------------+------------+------------+---------+---------+---------+---------+\n",
      "| swap_count      |          1 |          0 |          0 |          0 |          0 |       0 |       0 |       0 |       0 |\n",
      "+-----------------+------------+------------+------------+------------+------------+---------+---------+---------+---------+\n",
      "| num_qubits      |         50 |        127 |        127 |        127 |        127 |     127 |     127 |     127 |     127 |\n",
      "+-----------------+------------+------------+------------+------------+------------+---------+---------+---------+---------+\n",
      "| num_clbits      |         50 |         50 |         50 |         50 |         50 |      50 |      50 |      50 |      50 |\n",
      "+-----------------+------------+------------+------------+------------+------------+---------+---------+---------+---------+\n",
      "| num_qubits_used |         50 |        127 |        127 |        127 |        127 |     127 |     127 |     127 |     127 |\n",
      "+-----------------+------------+------------+------------+------------+------------+---------+---------+---------+---------+\n",
      "| num_clbits_used |         50 |         50 |         50 |         50 |         50 |      50 |      50 |      50 |      50 |\n",
      "+-----------------+------------+------------+------------+------------+------------+---------+---------+---------+---------+\n",
      "| num_cregs_used  |          1 |          1 |          1 |          1 |          1 |       1 |       1 |       1 |       1 |\n",
      "+-----------------+------------+------------+------------+------------+------------+---------+---------+---------+---------+\n",
      "| num_qregs_used  |          1 |          1 |          1 |          1 |          1 |       1 |       1 |       1 |       1 |\n",
      "+-----------------+------------+------------+------------+------------+------------+---------+---------+---------+---------+\n"
     ]
    }
   ],
   "execution_count": 15
  },
  {
   "metadata": {
    "ExecuteTime": {
     "end_time": "2025-06-25T11:17:35.830044Z",
     "start_time": "2025-06-25T11:17:35.826086Z"
    }
   },
   "cell_type": "code",
   "source": [
    "# print(\"\\n-- Directly Transpiled Circuit --\")\n",
    "# direct_0.draw()\n",
    "# direct_1.draw()\n",
    "# direct_2.draw()\n",
    "# print(\"\\n-- Preprocessed + Transpiled Circuit --\")\n",
    "# after_pre_0.draw()\n",
    "# after_pre_1.draw()\n",
    "# after_pre_2.draw()"
   ],
   "id": "4f061f67",
   "outputs": [],
   "execution_count": 11
  }
 ],
 "metadata": {
  "kernelspec": {
   "display_name": ".venv",
   "language": "python",
   "name": "python3"
  },
  "language_info": {
   "codemirror_mode": {
    "name": "ipython",
    "version": 3
   },
   "file_extension": ".py",
   "mimetype": "text/x-python",
   "name": "python",
   "nbconvert_exporter": "python",
   "pygments_lexer": "ipython3",
   "version": "3.13.0"
  }
 },
 "nbformat": 4,
 "nbformat_minor": 5
}
